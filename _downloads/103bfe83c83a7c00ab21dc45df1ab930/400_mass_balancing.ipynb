{
  "cells": [
    {
      "cell_type": "code",
      "execution_count": null,
      "metadata": {
        "collapsed": false
      },
      "outputs": [],
      "source": [
        "%matplotlib inline"
      ]
    },
    {
      "cell_type": "markdown",
      "metadata": {},
      "source": [
        "\n# Mass Balancing\n\nIn the examples so far, Flowsheet objects are created by math operations, so they inherently balance.\nA common problem in Mineral Processing (Metallurgy/Chemical/Process Engineering) is mass (or metallurgical) balancing.\nWhen auditing a processing plant the data is collected by measurement and sampling/assaying. This data will never\nbalance of course due to sampling and measurement errors.\n\nThere exists a fundamental optimisation process that can balance the overall mass and components across a\nsystem (network/flowsheet).  This example demonstrates that functionality.\n"
      ]
    },
    {
      "cell_type": "code",
      "execution_count": null,
      "metadata": {
        "collapsed": false
      },
      "outputs": [],
      "source": [
        "import logging\nfrom functools import partial\nfrom typing import Dict\n\nimport numpy as np\nimport pandas as pd\nimport plotly\n\nfrom elphick.mass_composition import MassComposition\nfrom elphick.mass_composition.balance import MCBalance\nfrom elphick.mass_composition.flowsheet import Flowsheet\nfrom elphick.mass_composition.utils.partition import napier_munn\nfrom elphick.mass_composition.datasets.sample_data import size_by_assay"
      ]
    },
    {
      "cell_type": "code",
      "execution_count": null,
      "metadata": {
        "collapsed": false
      },
      "outputs": [],
      "source": [
        "logging.basicConfig(level=logging.INFO,\n                    format='%(asctime)s %(levelname)s %(module)s - %(funcName)s: %(message)s',\n                    datefmt='%Y-%m-%dT%H:%M:%S%z')"
      ]
    },
    {
      "cell_type": "markdown",
      "metadata": {},
      "source": [
        "## Create a MassComposition object\n\nWe get some demo data in the form of a pandas DataFrame\n\n"
      ]
    },
    {
      "cell_type": "code",
      "execution_count": null,
      "metadata": {
        "collapsed": false
      },
      "outputs": [],
      "source": [
        "df_data: pd.DataFrame = size_by_assay()\ndf_data"
      ]
    },
    {
      "cell_type": "markdown",
      "metadata": {},
      "source": [
        "Create the object\n\n"
      ]
    },
    {
      "cell_type": "code",
      "execution_count": null,
      "metadata": {
        "collapsed": false
      },
      "outputs": [],
      "source": [
        "mc_size: MassComposition = MassComposition(df_data, name='size sample')\nprint(mc_size)\nmc_size.aggregate()"
      ]
    },
    {
      "cell_type": "markdown",
      "metadata": {},
      "source": [
        "We partially initialise a partition function\nThe dim argument is added to inform the split method which dimension to apply the function/split to\n\n"
      ]
    },
    {
      "cell_type": "code",
      "execution_count": null,
      "metadata": {
        "collapsed": false
      },
      "outputs": [],
      "source": [
        "partition = partial(napier_munn, d50=0.150, ep=0.1, dim='size')"
      ]
    },
    {
      "cell_type": "markdown",
      "metadata": {},
      "source": [
        "## Create a Network that balances\n\nSeparate the object using the defined partition\n\n"
      ]
    },
    {
      "cell_type": "code",
      "execution_count": null,
      "metadata": {
        "collapsed": false
      },
      "outputs": [],
      "source": [
        "mc_coarse, mc_fine = mc_size.split_by_partition(partition_definition=partition, name_1='coarse', name_2='fine')\n\nfs: Flowsheet = Flowsheet().from_streams([mc_size, mc_coarse, mc_fine])\nprint(fs.balanced)\n\nfig = fs.table_plot(plot_type='network', table_pos='left', table_area=0.3)\nfig"
      ]
    },
    {
      "cell_type": "markdown",
      "metadata": {},
      "source": [
        "Demonstrate that the data balances with the balance plot\n\n"
      ]
    },
    {
      "cell_type": "code",
      "execution_count": null,
      "metadata": {
        "collapsed": false
      },
      "outputs": [],
      "source": [
        "fig = fs.plot_balance()\n# noinspection PyTypeChecker\nplotly.io.show(fig)  # this call to show will set the thumbnail for the gallery"
      ]
    },
    {
      "cell_type": "markdown",
      "metadata": {},
      "source": [
        "The balance plot can be colored by a specified column or index/dimension.\n\n"
      ]
    },
    {
      "cell_type": "code",
      "execution_count": null,
      "metadata": {
        "collapsed": false
      },
      "outputs": [],
      "source": [
        "fig = fs.plot_balance(color='size')\nfig"
      ]
    },
    {
      "cell_type": "markdown",
      "metadata": {},
      "source": [
        "## Create an imbalanced network\n\nModify one stream to corrupt the balance\n\n"
      ]
    },
    {
      "cell_type": "code",
      "execution_count": null,
      "metadata": {
        "collapsed": false
      },
      "outputs": [],
      "source": [
        "df_coarse_2 = mc_coarse.data.to_dataframe().apply(lambda x: np.random.normal(loc=x, scale=np.std(x)))\nmc_coarse_2: MassComposition = MassComposition(data=df_coarse_2, name='coarse')\nmc_coarse_2 = mc_coarse_2.set_parent_node(mc_size)\n\n# create a new network - which does not balance\nfs_ub: Flowsheet = Flowsheet().from_streams([mc_size, mc_coarse_2, mc_fine])\nprint(fs_ub.balanced)\n\nfig = fs_ub.table_plot(plot_type='network', table_pos='left', table_area=0.3)\nfig"
      ]
    },
    {
      "cell_type": "code",
      "execution_count": null,
      "metadata": {
        "collapsed": false
      },
      "outputs": [],
      "source": [
        "fig = fs_ub.plot_balance()\nfig"
      ]
    },
    {
      "cell_type": "markdown",
      "metadata": {},
      "source": [
        "## Balance the Flowsheet\n\n"
      ]
    },
    {
      "cell_type": "markdown",
      "metadata": {},
      "source": [
        "..  note::\n\n    This example has not yet been completed...\n\n"
      ]
    },
    {
      "cell_type": "code",
      "execution_count": null,
      "metadata": {
        "collapsed": false
      },
      "outputs": [],
      "source": [
        "mcb: MCBalance = MCBalance(fs=fs_ub)\n\n# SD configuration\n# df_sds: pd.DataFrame = mcb.create_balance_config(best_measurements='input')\n\n# cost functions\ncfs: Dict = mcb._create_cost_functions()\n# check for a zero cost when passing the measured values\nfor k, v in cfs.items():\n    x = mcb.fs.to_dataframe().loc[k, :].drop(columns=['mass_wet']).values.ravel()\n    y = v(x=x)\n    print(k, y)\n\ndf_bal: pd.DataFrame = mcb.optimise()\n\n# create a network using the balanced data\nfs_bal: Flowsheet = Flowsheet.from_dataframe(df=df_bal, name='balanced', mc_name_col='name')\nfig = fs_bal.plot_parallel(color='name')\nfig.show()"
      ]
    }
  ],
  "metadata": {
    "kernelspec": {
      "display_name": "Python 3",
      "language": "python",
      "name": "python3"
    },
    "language_info": {
      "codemirror_mode": {
        "name": "ipython",
        "version": 3
      },
      "file_extension": ".py",
      "mimetype": "text/x-python",
      "name": "python",
      "nbconvert_exporter": "python",
      "pygments_lexer": "ipython3",
      "version": "3.10.12"
    }
  },
  "nbformat": 4,
  "nbformat_minor": 0
}