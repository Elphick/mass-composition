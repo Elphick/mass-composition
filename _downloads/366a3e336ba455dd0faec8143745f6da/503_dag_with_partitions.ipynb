{
  "cells": [
    {
      "cell_type": "code",
      "execution_count": null,
      "metadata": {
        "collapsed": false
      },
      "outputs": [],
      "source": [
        "%matplotlib inline"
      ]
    },
    {
      "cell_type": "markdown",
      "metadata": {},
      "source": [
        "\n# DAG with Partitions\n\nIn the context of this script, partitions are used to divide the data into different segments based on certain\ncriteria. These partitions are defined using the napier_munn function, which is partially applied to set the d50\nand ep parameters. The dim argument is used to select the dimension to partition on.\n\nThe partitions are then used in the Directed Acyclic Graph (DAG) to define the relationships between streams\nresulting from transformations (operations) on the streams.\n\nEach node in the DAG represents an operation on one or more streams, and the edges represent the flow of data\nfrom one operation to the next.  The DAG, along with the defined partitions, can be used to simulate\nthe network of operations and produce the final results. This approach allows for the management of\ncomplex relationships between streams in stream operations.\n"
      ]
    },
    {
      "cell_type": "code",
      "execution_count": null,
      "metadata": {
        "collapsed": false
      },
      "outputs": [],
      "source": [
        "import logging\nfrom copy import deepcopy\nfrom functools import partial\n\nimport plotly\n\nfrom elphick.mass_composition import MassComposition, Stream\nfrom elphick.mass_composition.dag import DAG\nfrom elphick.mass_composition.datasets.sample_data import size_by_assay\nfrom elphick.mass_composition.flowsheet import Flowsheet\nfrom elphick.mass_composition.utils.partition import napier_munn\n\nlogging.basicConfig(level=logging.INFO, format='%(asctime)s - %(name)s - %(levelname)s - %(message)s')\nlogger = logging.getLogger(__name__)"
      ]
    },
    {
      "cell_type": "markdown",
      "metadata": {},
      "source": [
        "## Define the Partitions\n\nThese partitions are defined in the `napier_munn` function.  The function is partially applied to set the d50 and ep.\nThe `dim` argument is used to select the dimension to partition on.\nThese have no basis in reality and are for illustrative purposes only.\n\n"
      ]
    },
    {
      "cell_type": "code",
      "execution_count": null,
      "metadata": {
        "collapsed": false
      },
      "outputs": [],
      "source": [
        "part_screen = partial(napier_munn, d50=0.5, ep=0.2, dim='size')\npart_rgr_cyclone = partial(napier_munn, d50=0.045, ep=0.1, dim='size')\npart_clr_cyclone = partial(napier_munn, d50=0.038, ep=0.1, dim='size')\npart_scav_cyclone = partial(napier_munn, d50=0.045, ep=0.1, dim='size')"
      ]
    },
    {
      "cell_type": "markdown",
      "metadata": {},
      "source": [
        "## Define the DAG\n\nThe DAG is defined by adding nodes to the graph.  Each node is an input, output or Stream operation\n(e.g. add, split, etc.).  The nodes are connected by the streams they operate on.\n\n"
      ]
    },
    {
      "cell_type": "code",
      "execution_count": null,
      "metadata": {
        "collapsed": false
      },
      "outputs": [],
      "source": [
        "mc_sample: MassComposition = MassComposition(size_by_assay(), name='sample')\n\ndag = DAG(n_jobs=1)\ndag.add_input(name='feed')\ndag.add_step(name='screen', operation=Stream.split_by_partition, streams=['feed'],\n             kwargs={'partition_definition': part_screen, 'name_1': 'oversize', 'name_2': 'undersize'})\ndag.add_step(name='rougher', operation=Stream.split_by_partition, streams=['undersize'],\n             kwargs={'partition_definition': part_rgr_cyclone, 'name_1': 'rgr_uf', 'name_2': 'rgr_of'})\ndag.add_step(name='cleaner', operation=Stream.split_by_partition, streams=['rgr_uf'],\n             kwargs={'partition_definition': part_clr_cyclone, 'name_1': 'clr_uf', 'name_2': 'clr_of'})\ndag.add_step(name='scavenger', operation=Stream.split_by_partition, streams=['rgr_of'],\n             kwargs={'partition_definition': part_scav_cyclone, 'name_1': 'scav_uf', 'name_2': 'scav_of'})\ndag.add_step(name='overflow', operation=Stream.add, streams=['scav_of', 'clr_of'],\n             kwargs={'name': 'tailings'})\ndag.add_step(name='joiner', operation=Stream.add, streams=['oversize', 'clr_uf', 'scav_uf'],\n             kwargs={'name': 'product'})\ndag.add_output(name='reject', stream='tailings')\ndag.add_output(name='product', stream='product')"
      ]
    },
    {
      "cell_type": "markdown",
      "metadata": {},
      "source": [
        "## Run the DAG\n\nThe dag is run by providing MassComposition (or Stream) objects for all inputs.  They must be compatible i.e. have the\nsame indexes.\n\n"
      ]
    },
    {
      "cell_type": "code",
      "execution_count": null,
      "metadata": {
        "collapsed": false
      },
      "outputs": [],
      "source": [
        "dag.run({'feed': mc_sample}, progress_bar=True)"
      ]
    },
    {
      "cell_type": "markdown",
      "metadata": {},
      "source": [
        "Create a Flowsheet object from the dag, enabling all the usual network plotting and analysis methods.\n\n"
      ]
    },
    {
      "cell_type": "code",
      "execution_count": null,
      "metadata": {
        "collapsed": false
      },
      "outputs": [],
      "source": [
        "fs: Flowsheet = Flowsheet.from_dag(dag)\n\nfig = fs.plot_network()\nfig"
      ]
    },
    {
      "cell_type": "code",
      "execution_count": null,
      "metadata": {
        "collapsed": false
      },
      "outputs": [],
      "source": [
        "fig = fs.table_plot(plot_type='sankey', sankey_color_var='Fe', sankey_edge_colormap='copper_r', sankey_vmin=52,\n                    sankey_vmax=70)\nplotly.io.show(fig)"
      ]
    }
  ],
  "metadata": {
    "kernelspec": {
      "display_name": "Python 3",
      "language": "python",
      "name": "python3"
    },
    "language_info": {
      "codemirror_mode": {
        "name": "ipython",
        "version": 3
      },
      "file_extension": ".py",
      "mimetype": "text/x-python",
      "name": "python",
      "nbconvert_exporter": "python",
      "pygments_lexer": "ipython3",
      "version": "3.10.12"
    }
  },
  "nbformat": 4,
  "nbformat_minor": 0
}