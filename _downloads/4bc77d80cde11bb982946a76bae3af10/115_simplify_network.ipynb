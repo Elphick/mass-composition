{
  "cells": [
    {
      "cell_type": "code",
      "execution_count": null,
      "metadata": {
        "collapsed": false
      },
      "outputs": [],
      "source": [
        "%matplotlib inline"
      ]
    },
    {
      "cell_type": "markdown",
      "metadata": {},
      "source": [
        "\n# Simplify a Network\n\nThere are times when a simplified view of a complex network is required, to provide a summary of the overall\nmass-balance. This can be achieved by collapsing the network into a single node, which represents the system\ninternals. This is useful for high-level reporting and visualisation.\n\nIn this example, we will demonstrate how to simplify a network using the `to_simple` method.\n"
      ]
    },
    {
      "cell_type": "code",
      "execution_count": null,
      "metadata": {
        "collapsed": false
      },
      "outputs": [],
      "source": [
        "import plotly\nimport pandas as pd\nfrom functools import partial\n\nfrom elphick.mass_composition.flowsheet import Flowsheet\nfrom elphick.mass_composition.utils.partition import perfect, napier_munn\nfrom elphick.mass_composition.datasets.sample_data import size_by_assay\nfrom elphick.mass_composition import MassComposition\n\n# sphinx_gallery_thumbnail_number = -1"
      ]
    },
    {
      "cell_type": "markdown",
      "metadata": {},
      "source": [
        "## Create a network\n\nWe create the same network as in the [Compare Partition Separations](#compare-partition-separations) example.\n\n"
      ]
    },
    {
      "cell_type": "code",
      "execution_count": null,
      "metadata": {
        "collapsed": false
      },
      "outputs": [],
      "source": [
        "mc_size: MassComposition = MassComposition(size_by_assay(), name='size sample')\nmc_ideal_feed, mc_sim_feed = mc_size.split(0.5, 'ideal feed', 'sim feed')\npart_ideal = partial(perfect, d50=0.150, dim='size')\npart_sim = partial(napier_munn, d50=0.150, ep=0.1, dim='size')\n# Separate the object using the defined partitions\nmc_ideal_coarse, mc_ideal_fine = mc_ideal_feed.split_by_partition(partition_definition=part_ideal,\n                                                                  name_1='ideal_coarse', name_2='ideal_fine')\nmc_sim_coarse, mc_sim_fine = mc_sim_feed.split_by_partition(partition_definition=part_sim, name_1='sim_coarse',\n                                                            name_2='sim_fine')\n\nfs: Flowsheet = Flowsheet().from_streams([mc_size, mc_ideal_feed, mc_sim_feed,\n                                          mc_ideal_coarse, mc_ideal_fine,\n                                          mc_sim_coarse, mc_sim_fine])\n\nfig = fs.table_plot(table_pos='left',\n                    sankey_color_var='Fe', sankey_edge_colormap='copper_r', sankey_vmin=50, sankey_vmax=70)\nfig"
      ]
    },
    {
      "cell_type": "markdown",
      "metadata": {},
      "source": [
        "## Simplify the Network\n\n"
      ]
    },
    {
      "cell_type": "code",
      "execution_count": null,
      "metadata": {
        "collapsed": false
      },
      "outputs": [],
      "source": [
        "fs_simple = fs.to_simple(node_name='system')\n\nfig = fs_simple.table_plot(table_pos='left',\n                           sankey_color_var='Fe', sankey_edge_colormap='copper_r', sankey_vmin=50, sankey_vmax=70)\n# noinspection PyTypeChecker\nplotly.io.show(fig)  # this call to show will set the thumbnail for use in the gallery"
      ]
    }
  ],
  "metadata": {
    "kernelspec": {
      "display_name": "Python 3",
      "language": "python",
      "name": "python3"
    },
    "language_info": {
      "codemirror_mode": {
        "name": "ipython",
        "version": 3
      },
      "file_extension": ".py",
      "mimetype": "text/x-python",
      "name": "python",
      "nbconvert_exporter": "python",
      "pygments_lexer": "ipython3",
      "version": "3.10.12"
    }
  },
  "nbformat": 4,
  "nbformat_minor": 0
}