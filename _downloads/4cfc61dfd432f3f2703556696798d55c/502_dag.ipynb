{
  "cells": [
    {
      "cell_type": "code",
      "execution_count": null,
      "metadata": {
        "collapsed": false
      },
      "outputs": [],
      "source": [
        "%matplotlib inline"
      ]
    },
    {
      "cell_type": "markdown",
      "metadata": {},
      "source": [
        "\n# DAG to Define and Simulate\n\nSplitting and partitioning will preserve the relationships between streams enabling network creation for simple cases.\nIn more complex cases the DAG (Directed Acyclic Graph) construct can be useful to define the relationships between\nstreams resulting from transformations (operations) on the streams.\n\nThe DAG can be used to define the network and, with the run method, simulate the network to produce the final results.\n"
      ]
    },
    {
      "cell_type": "code",
      "execution_count": null,
      "metadata": {
        "collapsed": false
      },
      "outputs": [],
      "source": [
        "import logging\nfrom copy import deepcopy\n\nimport plotly\n\nfrom elphick.mass_composition import MassComposition, Stream\nfrom elphick.mass_composition.dag import DAG\nfrom elphick.mass_composition.datasets.sample_data import sample_data\nfrom elphick.mass_composition.flowsheet import Flowsheet\n\nlogging.basicConfig(level=logging.INFO, format='%(asctime)s - %(name)s - %(levelname)s - %(message)s')\nlogger = logging.getLogger(__name__)"
      ]
    },
    {
      "cell_type": "markdown",
      "metadata": {},
      "source": [
        "## Define the DAG\n\nThe DAG is defined by adding nodes to the graph.  Each node is an input, output or Stream operation\n(e.g. add, split, etc.).  The nodes are connected by the streams they operate on.\n\n"
      ]
    },
    {
      "cell_type": "code",
      "execution_count": null,
      "metadata": {
        "collapsed": false
      },
      "outputs": [],
      "source": [
        "mc_sample: MassComposition = MassComposition(sample_data(), name='sample')\n\ndag = DAG(n_jobs=1)\ndag.add_input(name='feed_1')\ndag.add_input(name='feed_2')\ndag.add_step(name='joiner', operation=MassComposition.add, streams=['feed_1', 'feed_2'], kwargs={'name': 'feed'})\ndag.add_step(name='split', operation=MassComposition.split, streams=['feed'],\n             kwargs={'fraction': 0.3, 'name_1': 'lump', 'name_2': 'fines'})\ndag.add_step(name='split_2', operation=MassComposition.split, streams=['lump'],\n             kwargs={'fraction': 0.3, 'name_1': 'lumpier', 'name_2': 'less_lumpy'})\ndag.add_step(name='split_3', operation=MassComposition.split, streams=['fines'],\n             kwargs={'fraction': 0.3, 'name_1': 'finer', 'name_2': 'less_fine'})\ndag.add_step(name='joiner_1', operation=MassComposition.add, streams=['less_lumpy', 'less_fine'],\n             kwargs={'name': 'mix_1'})\ndag.add_step(name='joiner_2', operation=MassComposition.add, streams=['lumpier', 'finer'],\n             kwargs={'name': 'mix_2'})\ndag.add_output(name='product_1', stream='mix_1')\ndag.add_output(name='product_2', stream='mix_2')"
      ]
    },
    {
      "cell_type": "markdown",
      "metadata": {},
      "source": [
        "## Run the DAG\n\nThe dag is run by providing MassComposition (or Stream) objects for all inputs.  They must be compatible i.e. have the\nsame indexes.\n\n"
      ]
    },
    {
      "cell_type": "code",
      "execution_count": null,
      "metadata": {
        "collapsed": false
      },
      "outputs": [],
      "source": [
        "dag.run({'feed_1': mc_sample,\n         'feed_2': deepcopy(mc_sample).rename('sample_2')  # names must be unique\n         }, progress_bar=False)"
      ]
    },
    {
      "cell_type": "markdown",
      "metadata": {},
      "source": [
        "Create a Flowsheet object from the dag, enabling all the usual network plotting and analysis methods.\n\n"
      ]
    },
    {
      "cell_type": "code",
      "execution_count": null,
      "metadata": {
        "collapsed": false
      },
      "outputs": [],
      "source": [
        "fs: Flowsheet = Flowsheet.from_dag(dag)\n\nfig = fs.plot_network()\nplotly.io.show(fig)"
      ]
    },
    {
      "cell_type": "code",
      "execution_count": null,
      "metadata": {
        "collapsed": false
      },
      "outputs": [],
      "source": [
        "fig = fs.table_plot(plot_type='sankey')\nfig"
      ]
    }
  ],
  "metadata": {
    "kernelspec": {
      "display_name": "Python 3",
      "language": "python",
      "name": "python3"
    },
    "language_info": {
      "codemirror_mode": {
        "name": "ipython",
        "version": 3
      },
      "file_extension": ".py",
      "mimetype": "text/x-python",
      "name": "python",
      "nbconvert_exporter": "python",
      "pygments_lexer": "ipython3",
      "version": "3.10.12"
    }
  },
  "nbformat": 4,
  "nbformat_minor": 0
}