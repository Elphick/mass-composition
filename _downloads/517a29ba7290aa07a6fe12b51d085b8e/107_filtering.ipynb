{
  "cells": [
    {
      "cell_type": "code",
      "execution_count": null,
      "metadata": {
        "collapsed": false
      },
      "outputs": [],
      "source": [
        "%matplotlib inline"
      ]
    },
    {
      "cell_type": "markdown",
      "metadata": {},
      "source": [
        "\n# Filtering\n\nFiltering is often required to reduce the data of a MassComposition object to a specific subset of interest.\n\nBoth individual objects can be filtered, as can multiple objects contained within a Flowsheet object.\n"
      ]
    },
    {
      "cell_type": "code",
      "execution_count": null,
      "metadata": {
        "collapsed": false
      },
      "outputs": [],
      "source": [
        "import pandas as pd\n\nfrom elphick.mass_composition import MassComposition\nfrom elphick.mass_composition.flowsheet import Flowsheet\nfrom elphick.mass_composition.datasets.sample_data import sample_data"
      ]
    },
    {
      "cell_type": "markdown",
      "metadata": {},
      "source": [
        "## Create a MassComposition object\n\nWe get some demo data in the form of a pandas DataFrame\n\n"
      ]
    },
    {
      "cell_type": "code",
      "execution_count": null,
      "metadata": {
        "collapsed": false
      },
      "outputs": [],
      "source": [
        "df_data: pd.DataFrame = sample_data()\ndf_data"
      ]
    },
    {
      "cell_type": "markdown",
      "metadata": {},
      "source": [
        "Construct a MassComposition object\n\n"
      ]
    },
    {
      "cell_type": "code",
      "execution_count": null,
      "metadata": {
        "collapsed": false
      },
      "outputs": [],
      "source": [
        "obj_mc: MassComposition = MassComposition(df_data, name='demo')\nobj_mc.data.to_dataframe()"
      ]
    },
    {
      "cell_type": "markdown",
      "metadata": {},
      "source": [
        "## Filtering Single Objects\n\nOne of the most common subsets is one that contains records above a particular grade.\nThe method used to filter is called query, for consistency with the xarray and pandas methods that execute the same.\n\n"
      ]
    },
    {
      "cell_type": "code",
      "execution_count": null,
      "metadata": {
        "collapsed": false
      },
      "outputs": [],
      "source": [
        "obj_1: MassComposition = obj_mc.query({'index': 'Fe>58'})\nobj_1.data.to_dataframe()"
      ]
    },
    {
      "cell_type": "markdown",
      "metadata": {},
      "source": [
        "Notice that the record with an Fe value below 58 has been removed.\n\n"
      ]
    },
    {
      "cell_type": "markdown",
      "metadata": {},
      "source": [
        "## Filtering Multiple Objects\n\nMultiple objects can be loaded into a Flowsheet.  We'll make a small network to demonstrate.\n\n"
      ]
    },
    {
      "cell_type": "code",
      "execution_count": null,
      "metadata": {
        "collapsed": false
      },
      "outputs": [],
      "source": [
        "obj_one, obj_two = obj_mc.split(fraction=0.6, name_1='one', name_2='two')\n\nfs: Flowsheet = Flowsheet.from_streams([obj_mc, obj_one, obj_two], name='Network')"
      ]
    },
    {
      "cell_type": "markdown",
      "metadata": {},
      "source": [
        "The weighted mean mass-composition of each object/edge/stream in the network can be reported out with the\nreport method.\n\n"
      ]
    },
    {
      "cell_type": "code",
      "execution_count": null,
      "metadata": {
        "collapsed": false
      },
      "outputs": [],
      "source": [
        "fs.report()"
      ]
    },
    {
      "cell_type": "markdown",
      "metadata": {},
      "source": [
        "Now we'll filter as we did before, though we must specify which object the query criteria is to be applied to.\n\n"
      ]
    },
    {
      "cell_type": "code",
      "execution_count": null,
      "metadata": {
        "collapsed": false
      },
      "outputs": [],
      "source": [
        "fs.query(mc_name='demo', queries={'index': 'Fe>58'}).report()"
      ]
    }
  ],
  "metadata": {
    "kernelspec": {
      "display_name": "Python 3",
      "language": "python",
      "name": "python3"
    },
    "language_info": {
      "codemirror_mode": {
        "name": "ipython",
        "version": 3
      },
      "file_extension": ".py",
      "mimetype": "text/x-python",
      "name": "python",
      "nbconvert_exporter": "python",
      "pygments_lexer": "ipython3",
      "version": "3.10.12"
    }
  },
  "nbformat": 4,
  "nbformat_minor": 0
}