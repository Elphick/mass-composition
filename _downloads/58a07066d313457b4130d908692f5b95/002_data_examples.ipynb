{
  "cells": [
    {
      "cell_type": "code",
      "execution_count": null,
      "metadata": {
        "collapsed": false
      },
      "outputs": [],
      "source": [
        "%matplotlib inline"
      ]
    },
    {
      "cell_type": "markdown",
      "metadata": {},
      "source": [
        "\n# Datasets and Sample Data\n\n.. Admonition:: TLDR\n\n   **Datasets** are sourced in the public domain, largely unaltered.\n\n   **Sample Data** is for use in mass-composition examples, often sourced from a dataset with some transformation applied.\n\n*Why two modules?*\n\nWe are after open, real data so our examples are realistic.  We are obliged to appropriately reference so the\noriginal *dataset* is largely structured as they are sourced, potentially with some minor adjustments as noted.\n\nThe sample_data module contains methods that often load from the dataset module and apply transformations to prepare\ndata ready for injection into the package.  This keeps examples simple.\n\nThis approach retains the integrity of the original datasets, but creates sample_data that simplifies examples.\n\nThe Dataset Register can be found `here <Dataset Register>`.\n"
      ]
    },
    {
      "cell_type": "code",
      "execution_count": null,
      "metadata": {
        "collapsed": false
      },
      "outputs": [],
      "source": [
        "import pandas as pd\n\nfrom elphick.mass_composition.datasets import datasets\nfrom elphick.mass_composition.datasets import sample_data"
      ]
    },
    {
      "cell_type": "markdown",
      "metadata": {},
      "source": [
        "## Datasets\n\nWe load some datasets.  This will download the file after a hash check, thereby avoiding repeated downloads\nunless the source file has been updated.\n\n"
      ]
    },
    {
      "cell_type": "code",
      "execution_count": null,
      "metadata": {
        "collapsed": false
      },
      "outputs": [],
      "source": [
        "df_ds1: pd.DataFrame = datasets.load_size_by_assay()\ndf_ds1"
      ]
    },
    {
      "cell_type": "markdown",
      "metadata": {},
      "source": [
        "When executing this method, you can view the\n'[profile report](https://elphick.github.io/mass-composition/_static/size_by_assay.html)'\nfor the dataset, by setting the show_report argument to True.\n\n"
      ]
    },
    {
      "cell_type": "code",
      "execution_count": null,
      "metadata": {
        "collapsed": false
      },
      "outputs": [],
      "source": [
        "df_ds1: pd.DataFrame = datasets.load_size_by_assay(show_report=True)"
      ]
    },
    {
      "cell_type": "markdown",
      "metadata": {},
      "source": [
        "## Sample Data\n\nWe load some sample data.  The method called here utilises the file downloaded in the example above.\nSome minor changes have been made to the file to simplify instantiation of a MassComposition object.\n\n"
      ]
    },
    {
      "cell_type": "code",
      "execution_count": null,
      "metadata": {
        "collapsed": false
      },
      "outputs": [],
      "source": [
        "df_sd1: pd.DataFrame = sample_data.size_by_assay()\ndf_sd1"
      ]
    }
  ],
  "metadata": {
    "kernelspec": {
      "display_name": "Python 3",
      "language": "python",
      "name": "python3"
    },
    "language_info": {
      "codemirror_mode": {
        "name": "ipython",
        "version": 3
      },
      "file_extension": ".py",
      "mimetype": "text/x-python",
      "name": "python",
      "nbconvert_exporter": "python",
      "pygments_lexer": "ipython3",
      "version": "3.10.12"
    }
  },
  "nbformat": 4,
  "nbformat_minor": 0
}