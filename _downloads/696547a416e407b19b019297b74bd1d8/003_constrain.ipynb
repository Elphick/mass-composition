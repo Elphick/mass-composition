{
  "cells": [
    {
      "cell_type": "code",
      "execution_count": null,
      "metadata": {
        "collapsed": false
      },
      "outputs": [],
      "source": [
        "%matplotlib inline"
      ]
    },
    {
      "cell_type": "markdown",
      "metadata": {},
      "source": [
        "\n# Constrain\n\nA simple example that demonstrates the constrain method of mass-composition.\n\nIt is possible that a MassComposition object is created from a Machine Learning Model estimation.\nIf either the ML model is over-fitted, or the features supplied to create the estimation are out of range,\nimprobable results can be generated. The constrain method will provide a way to manage these outliers.\n"
      ]
    },
    {
      "cell_type": "code",
      "execution_count": null,
      "metadata": {
        "collapsed": false
      },
      "outputs": [],
      "source": [
        "import pandas as pd\n\nfrom elphick.mass_composition import MassComposition\nfrom elphick.mass_composition.datasets.sample_data import sample_data"
      ]
    },
    {
      "cell_type": "markdown",
      "metadata": {},
      "source": [
        "## Create a MassComposition object\n\nWe get some demo data in the form of a pandas DataFrame\n\n"
      ]
    },
    {
      "cell_type": "code",
      "execution_count": null,
      "metadata": {
        "collapsed": false
      },
      "outputs": [],
      "source": [
        "df_data: pd.DataFrame = sample_data()\ndf_data"
      ]
    },
    {
      "cell_type": "markdown",
      "metadata": {},
      "source": [
        "Construct a MassComposition object\n\n"
      ]
    },
    {
      "cell_type": "code",
      "execution_count": null,
      "metadata": {
        "collapsed": false
      },
      "outputs": [],
      "source": [
        "obj_mc: MassComposition = MassComposition(df_data)\nobj_mc.data.to_dataframe()"
      ]
    },
    {
      "cell_type": "markdown",
      "metadata": {},
      "source": [
        "## Constraining by Clip\n\nConstraining by clip simpy clips the mass or composition values.  The simplest way to constrain is with\na tuple of the limits.\n\n"
      ]
    },
    {
      "cell_type": "code",
      "execution_count": null,
      "metadata": {
        "collapsed": false
      },
      "outputs": [],
      "source": [
        "obj_1: MassComposition = obj_mc.constrain(clip_mass=(85, 100))\nobj_1.data.to_dataframe()"
      ]
    },
    {
      "cell_type": "markdown",
      "metadata": {},
      "source": [
        "Notice that the mass has been constrained for some records and the H2O has been modified accordingly.\n\nMore granularity is possible by passing a dict[variable: tuple_of_limits]\n\n"
      ]
    },
    {
      "cell_type": "code",
      "execution_count": null,
      "metadata": {
        "collapsed": false
      },
      "outputs": [],
      "source": [
        "obj_2: MassComposition = obj_mc.constrain(clip_mass={'mass_wet': (0, 100)})\nobj_2.data.to_dataframe()"
      ]
    },
    {
      "cell_type": "markdown",
      "metadata": {},
      "source": [
        "## Constraining Relative to Another Object\n\nSometimes constraining relative to another object is useful.  This can be described as \"constraining by recovery\".\nThe object is converted to absolute mass (where components are converted to mass units) and divided by the\nreference (other) object, also converted to mass units.  In mineral processing, this is known as recovery.\n\nFirst we'll make another object to act as our reference.\n\n"
      ]
    },
    {
      "cell_type": "code",
      "execution_count": null,
      "metadata": {
        "collapsed": false
      },
      "outputs": [],
      "source": [
        "obj_other: MassComposition = obj_mc.add(obj_mc, name='feed')\n\nobj_3: MassComposition = obj_mc.constrain(relative_mass=(0.0, 0.1), other=obj_other)\nobj_3.data.to_dataframe()"
      ]
    },
    {
      "cell_type": "markdown",
      "metadata": {},
      "source": [
        "Here we constrain Fe to 10% recovery of 2 x the original object...\n\n"
      ]
    },
    {
      "cell_type": "code",
      "execution_count": null,
      "metadata": {
        "collapsed": false
      },
      "outputs": [],
      "source": [
        "obj_4: MassComposition = obj_mc.constrain(relative_composition={'Fe': (0.0, 0.1)}, other=obj_other)\nobj_4.data.to_dataframe()"
      ]
    },
    {
      "cell_type": "markdown",
      "metadata": {},
      "source": [
        "Arguments can be combined to perform multiple constraints in one call.\n\n"
      ]
    },
    {
      "cell_type": "code",
      "execution_count": null,
      "metadata": {
        "collapsed": false
      },
      "outputs": [],
      "source": [
        "obj_5: MassComposition = obj_mc.constrain(clip_mass=(85, 100),\n                                          relative_composition={'Fe': (0.0, 0.1)}, other=obj_other)\nobj_5.data.to_dataframe()"
      ]
    }
  ],
  "metadata": {
    "kernelspec": {
      "display_name": "Python 3",
      "language": "python",
      "name": "python3"
    },
    "language_info": {
      "codemirror_mode": {
        "name": "ipython",
        "version": 3
      },
      "file_extension": ".py",
      "mimetype": "text/x-python",
      "name": "python",
      "nbconvert_exporter": "python",
      "pygments_lexer": "ipython3",
      "version": "3.10.12"
    }
  },
  "nbformat": 4,
  "nbformat_minor": 0
}