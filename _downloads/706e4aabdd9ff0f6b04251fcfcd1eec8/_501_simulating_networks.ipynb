{
  "cells": [
    {
      "cell_type": "code",
      "execution_count": null,
      "metadata": {
        "collapsed": false
      },
      "outputs": [],
      "source": [
        "%matplotlib inline"
      ]
    },
    {
      "cell_type": "markdown",
      "metadata": {},
      "source": [
        "\n# Simulating a Network in Parallel\n\nWhile the ultimate objective is to process multiple fractionated samples together (with sample as a dim),\nthis pattern may be useful in the mean-time. It demonstrates how to process multiple samples in parallel,\nwith a progressbar to provide feedback.\n\nThe function my_simulator and the class TqdmParallel is defined in simulating_networks_tools.py, and are\nimported here to demonstrate.\n"
      ]
    },
    {
      "cell_type": "code",
      "execution_count": null,
      "metadata": {
        "collapsed": false
      },
      "outputs": [],
      "source": [
        "import pandas as pd\nimport plotly\nfrom joblib import delayed\n\nfrom elphick.mass_composition import MassComposition\nfrom elphick.mass_composition.datasets.sample_data import sample_data\nfrom elphick.mass_composition.flowsheet import Flowsheet\nfrom elphick.mass_composition.utils.parallel import TqdmParallel\nfrom examples._simulating_network_functions import my_simulator"
      ]
    },
    {
      "cell_type": "markdown",
      "metadata": {},
      "source": [
        "## Execute multiple simulations\n\n"
      ]
    },
    {
      "cell_type": "code",
      "execution_count": null,
      "metadata": {
        "collapsed": false
      },
      "outputs": [],
      "source": [
        "df_data: pd.DataFrame = sample_data()\nobj_mc: MassComposition = MassComposition(df_data, name='sample')\nd_inputs: dict[int, MassComposition] = {1: obj_mc, 2: obj_mc.add(obj_mc), 3: obj_mc.add(obj_mc).add(obj_mc)}\n\nresults: list[tuple[int, Flowsheet]] = TqdmParallel(n_jobs=3, prefer=\"processes\", total=len(d_inputs))(\n    delayed(my_simulator)(item) for item in d_inputs.items()\n)\n\nd_results = {sid: fs for sid, fs in results}"
      ]
    },
    {
      "cell_type": "markdown",
      "metadata": {},
      "source": [
        "Print the results\n\n"
      ]
    },
    {
      "cell_type": "code",
      "execution_count": null,
      "metadata": {
        "collapsed": false
      },
      "outputs": [],
      "source": [
        "print(d_results)"
      ]
    },
    {
      "cell_type": "markdown",
      "metadata": {},
      "source": [
        "## View the network for a sample\n\n"
      ]
    },
    {
      "cell_type": "code",
      "execution_count": null,
      "metadata": {
        "collapsed": false
      },
      "outputs": [],
      "source": [
        "fig = d_results[1].table_plot()\nplotly.io.show(fig)"
      ]
    }
  ],
  "metadata": {
    "kernelspec": {
      "display_name": "Python 3",
      "language": "python",
      "name": "python3"
    },
    "language_info": {
      "codemirror_mode": {
        "name": "ipython",
        "version": 3
      },
      "file_extension": ".py",
      "mimetype": "text/x-python",
      "name": "python",
      "nbconvert_exporter": "python",
      "pygments_lexer": "ipython3",
      "version": "3.10.12"
    }
  },
  "nbformat": 4,
  "nbformat_minor": 0
}