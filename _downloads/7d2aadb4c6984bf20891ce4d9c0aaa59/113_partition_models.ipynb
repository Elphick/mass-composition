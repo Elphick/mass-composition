{
  "cells": [
    {
      "cell_type": "code",
      "execution_count": null,
      "metadata": {
        "collapsed": false
      },
      "outputs": [],
      "source": [
        "%matplotlib inline"
      ]
    },
    {
      "cell_type": "markdown",
      "metadata": {},
      "source": [
        "\n# Partition Models\n\nPartition models, (a.k.a. partition curves) define the separation of a unit operation / process.\n\nIn the one dimensional case, the Partition Number (PN) is represents the probability that a particle will\nreport to the defined reference stream.\n\nConsider a desliming cyclone that aims to separate a slurry at 150 micron.  The reference stream is defined as\nthe Underflow (UF), since that is the \"stream of value\" in our simple example.\n\n..  Admonition:: TODO\n\n    Add a reference to partition curves.\n"
      ]
    },
    {
      "cell_type": "code",
      "execution_count": null,
      "metadata": {
        "collapsed": false
      },
      "outputs": [],
      "source": [
        "from functools import partial\n\nimport numpy as np\nimport pandas as pd\nimport plotly\nimport plotly.graph_objects as go\nfrom scipy.interpolate import PchipInterpolator\n\nfrom elphick.mass_composition import MassComposition\nfrom elphick.mass_composition.datasets.sample_data import size_by_assay\nfrom elphick.mass_composition.flowsheet import Flowsheet\nfrom elphick.mass_composition.utils.partition import napier_munn\nfrom elphick.mass_composition.utils.pd_utils import calculate_partition\n\n# sphinx_gallery_thumbnail_number = -1"
      ]
    },
    {
      "cell_type": "markdown",
      "metadata": {},
      "source": [
        "## Create a mass-composition object\n\nWe get some demo data in the form of a pandas DataFrame\n\n"
      ]
    },
    {
      "cell_type": "code",
      "execution_count": null,
      "metadata": {
        "collapsed": false
      },
      "outputs": [],
      "source": [
        "df_data: pd.DataFrame = size_by_assay()\nmc_feed: MassComposition = MassComposition(df_data, name='size sample')\nprint(mc_feed)"
      ]
    },
    {
      "cell_type": "markdown",
      "metadata": {},
      "source": [
        "## Define and Apply the Partition\n\nWe partially initialise the partition function\nThe dim argument is added to inform the split method which dimension to apply the function/split to\n\n"
      ]
    },
    {
      "cell_type": "code",
      "execution_count": null,
      "metadata": {
        "collapsed": false
      },
      "outputs": [],
      "source": [
        "part_cyclone = partial(napier_munn, d50=0.150, ep=0.1, dim='size')"
      ]
    },
    {
      "cell_type": "markdown",
      "metadata": {},
      "source": [
        "Separate the object using the defined partitions.  UF = Underflow, OF = Overflow\n\n"
      ]
    },
    {
      "cell_type": "code",
      "execution_count": null,
      "metadata": {
        "collapsed": false
      },
      "outputs": [],
      "source": [
        "mc_uf, mc_of = mc_feed.split_by_partition(partition_definition=part_cyclone, name_1='underflow', name_2='overflow')\nfs: Flowsheet = Flowsheet().from_streams([mc_feed, mc_uf, mc_of])\n\nfig = fs.table_plot(table_pos='left',\n                     sankey_color_var='Fe', sankey_edge_colormap='copper_r', sankey_vmin=50, sankey_vmax=70)\nfig"
      ]
    },
    {
      "cell_type": "markdown",
      "metadata": {},
      "source": [
        "We'll now get the partition data from the objects\n\n"
      ]
    },
    {
      "cell_type": "code",
      "execution_count": null,
      "metadata": {
        "collapsed": false
      },
      "outputs": [],
      "source": [
        "df_partition: pd.DataFrame = mc_feed.calculate_partition(ref=mc_uf)\ndf_partition"
      ]
    },
    {
      "cell_type": "markdown",
      "metadata": {},
      "source": [
        "Create an interpolator from the data.  As a Callable, the spline can be used to split a MassComposition object.\n\n"
      ]
    },
    {
      "cell_type": "code",
      "execution_count": null,
      "metadata": {
        "collapsed": false
      },
      "outputs": [],
      "source": [
        "da = np.linspace(0.01, df_partition.index.right.max(), num=500)\nspline_partition = PchipInterpolator(x=df_partition.sort_index()['da'], y=df_partition.sort_index()['PN'])\npn_extracted = spline_partition(da)"
      ]
    },
    {
      "cell_type": "markdown",
      "metadata": {},
      "source": [
        "Plot the extracted data, and the spline on the input partition curve to visually validate.\n\n"
      ]
    },
    {
      "cell_type": "code",
      "execution_count": null,
      "metadata": {
        "collapsed": false
      },
      "outputs": [],
      "source": [
        "pn_original = part_cyclone(da) / 100\n\nfig = go.Figure(go.Scatter(x=da, y=pn_original, name='Input Partition', line=dict(width=5, color='DarkSlateGrey')))\nfig.add_trace(go.Scatter(x=df_partition['da'], y=df_partition['PN'], name='Extracted Partition Data', mode='markers',\n                         marker=dict(size=12, color='red', line=dict(width=2, color='DarkSlateGrey'))))\nfig.add_trace(\n    go.Scatter(x=da, y=pn_extracted, name='Extracted Partition Curve', line=dict(width=2, color='red', dash='dash')))\n\nfig.update_xaxes(type=\"log\")\nfig.update_layout(title='Partition Round Trip Check', xaxis_title='da', yaxis_title='PN', yaxis_range=[0, 1.05])\n\n# noinspection PyTypeChecker\nplotly.io.show(fig)"
      ]
    },
    {
      "cell_type": "markdown",
      "metadata": {},
      "source": [
        "There are differences in the re-created partition at the coarser sizes.  It would be interesting to\ninvestigate if up-sampling in advance of partition generation would reduce this difference.  Alternatively,\nthe `napier_munn` parameteric partition function could be fitted to reduce the difference.\n\n"
      ]
    },
    {
      "cell_type": "markdown",
      "metadata": {},
      "source": [
        "## Pandas Function\n\nThe same functionality is available in pandas\n\n"
      ]
    },
    {
      "cell_type": "code",
      "execution_count": null,
      "metadata": {
        "collapsed": false
      },
      "outputs": [],
      "source": [
        "df_partition_2: pd.DataFrame = mc_feed.data.to_dataframe().pipe(calculate_partition, df_ref=mc_uf.data.to_dataframe(),\n                                                                col_mass_dry='mass_dry')\ndf_partition_2"
      ]
    },
    {
      "cell_type": "code",
      "execution_count": null,
      "metadata": {
        "collapsed": false
      },
      "outputs": [],
      "source": [
        "pd.testing.assert_frame_equal(df_partition, df_partition_2)"
      ]
    }
  ],
  "metadata": {
    "kernelspec": {
      "display_name": "Python 3",
      "language": "python",
      "name": "python3"
    },
    "language_info": {
      "codemirror_mode": {
        "name": "ipython",
        "version": 3
      },
      "file_extension": ".py",
      "mimetype": "text/x-python",
      "name": "python",
      "nbconvert_exporter": "python",
      "pygments_lexer": "ipython3",
      "version": "3.10.12"
    }
  },
  "nbformat": 4,
  "nbformat_minor": 0
}