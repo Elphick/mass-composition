{
  "cells": [
    {
      "cell_type": "code",
      "execution_count": null,
      "metadata": {
        "collapsed": false
      },
      "outputs": [],
      "source": [
        "%matplotlib inline"
      ]
    },
    {
      "cell_type": "markdown",
      "metadata": {},
      "source": [
        "\n# Interval Data - Sink Float\n\nIntervals are encountered in Metallurgy, aka fractions,\ne.g. size fractions.  In that case the typical nomenclature is size_retained, size passing, since the data\noriginates from a sieve stack.\n\nThe Sink Float metallurgical test splits/fractionates samples by density.  The density fraction is often conducted by\nsize fraction, resulting in 2D fractionation (interval) data.\n"
      ]
    },
    {
      "cell_type": "code",
      "execution_count": null,
      "metadata": {
        "collapsed": false
      },
      "outputs": [],
      "source": [
        "import logging\nfrom functools import partial\nfrom pathlib import Path\n\nimport pandas as pd\n# noinspection PyUnresolvedReferences\nimport numpy as np\nimport plotly\n\nfrom elphick.mass_composition import MassComposition\nfrom elphick.mass_composition.datasets import datasets\nfrom elphick.mass_composition.datasets.sample_data import size_by_assay\nfrom elphick.mass_composition.flowsheet import Flowsheet\nfrom elphick.mass_composition.utils.partition import napier_munn"
      ]
    },
    {
      "cell_type": "code",
      "execution_count": null,
      "metadata": {
        "collapsed": false
      },
      "outputs": [],
      "source": [
        "logging.basicConfig(level=logging.INFO,\n                    format='%(asctime)s %(levelname)s %(module)s - %(funcName)s: %(message)s',\n                    datefmt='%Y-%m-%dT%H:%M:%S%z')"
      ]
    },
    {
      "cell_type": "markdown",
      "metadata": {},
      "source": [
        "## Load Data\n\nWe load some real data.\n\n"
      ]
    },
    {
      "cell_type": "code",
      "execution_count": null,
      "metadata": {
        "collapsed": false
      },
      "outputs": [],
      "source": [
        "df_data: pd.DataFrame = datasets.load_nordic_iron_ore_sink_float()\ndf_data"
      ]
    },
    {
      "cell_type": "markdown",
      "metadata": {},
      "source": [
        "The dataset contains size x assay, plus size x density x assay data.  We'll drop the size x assay data to leave the\nsink / float data.\n\n"
      ]
    },
    {
      "cell_type": "code",
      "execution_count": null,
      "metadata": {
        "collapsed": false
      },
      "outputs": [],
      "source": [
        "# df_sink_float: pd.DataFrame = df_data.query('density_lo != np.nan and density_hi != np.nan')\n# df_sink_float"
      ]
    }
  ],
  "metadata": {
    "kernelspec": {
      "display_name": "Python 3",
      "language": "python",
      "name": "python3"
    },
    "language_info": {
      "codemirror_mode": {
        "name": "ipython",
        "version": 3
      },
      "file_extension": ".py",
      "mimetype": "text/x-python",
      "name": "python",
      "nbconvert_exporter": "python",
      "pygments_lexer": "ipython3",
      "version": "3.10.12"
    }
  },
  "nbformat": 4,
  "nbformat_minor": 0
}