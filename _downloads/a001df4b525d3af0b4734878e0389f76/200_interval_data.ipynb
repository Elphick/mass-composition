{
  "cells": [
    {
      "cell_type": "code",
      "execution_count": null,
      "metadata": {
        "collapsed": false
      },
      "outputs": [],
      "source": [
        "%matplotlib inline"
      ]
    },
    {
      "cell_type": "markdown",
      "metadata": {},
      "source": [
        "\n# Interval Data\n\nThis example adds a second dimension.  The second dimension is an interval, of the form interval_from, interval_to.\nIt is also known as binned data, where each 'bin' is bounded between and upper and lower limit.\n\nAn interval is relevant in geology, when analysing drill hole data.\n\nIntervals are also encountered in metallurgy, but in that discipline they are often called fractions,\ne.g. size fractions.  In that case the typical nomenclature is size_retained, size passing, since the data\noriginates from a sieve stack.\n"
      ]
    },
    {
      "cell_type": "code",
      "execution_count": null,
      "metadata": {
        "collapsed": false
      },
      "outputs": [],
      "source": [
        "import logging\n\nimport pandas as pd\nfrom matplotlib import pyplot as plt\n\nfrom elphick.mass_composition import MassComposition\nfrom elphick.mass_composition.datasets.sample_data import iron_ore_sample_data"
      ]
    },
    {
      "cell_type": "code",
      "execution_count": null,
      "metadata": {
        "collapsed": false
      },
      "outputs": [],
      "source": [
        "logging.basicConfig(level=logging.INFO,\n                    format='%(asctime)s %(levelname)s %(module)s - %(funcName)s: %(message)s',\n                    datefmt='%Y-%m-%dT%H:%M:%S%z',\n                    )"
      ]
    },
    {
      "cell_type": "markdown",
      "metadata": {},
      "source": [
        "## Create a MassComposition object\n\nWe get some demo data in the form of a pandas DataFrame\nWe create this object as 1D based on the pandas index\n\n"
      ]
    },
    {
      "cell_type": "code",
      "execution_count": null,
      "metadata": {
        "collapsed": false
      },
      "outputs": [],
      "source": [
        "df_data: pd.DataFrame = iron_ore_sample_data()\ndf_data.head()"
      ]
    },
    {
      "cell_type": "code",
      "execution_count": null,
      "metadata": {
        "collapsed": false
      },
      "outputs": [],
      "source": [
        "obj_mc: MassComposition = MassComposition(df_data,\n                                          name='Drill program',\n                                          mass_units='kg')\nobj_mc"
      ]
    },
    {
      "cell_type": "code",
      "execution_count": null,
      "metadata": {
        "collapsed": false
      },
      "outputs": [],
      "source": [
        "obj_mc.aggregate()"
      ]
    },
    {
      "cell_type": "code",
      "execution_count": null,
      "metadata": {
        "collapsed": false
      },
      "outputs": [],
      "source": [
        "obj_mc.aggregate('DHID')"
      ]
    },
    {
      "cell_type": "markdown",
      "metadata": {},
      "source": [
        "We will now make a 2D dataset using DHID and the interval.\nWe will first create a mean interval variable.  Then we will set the dataframe index to both variables before\nconstructing the object.\n\n"
      ]
    },
    {
      "cell_type": "code",
      "execution_count": null,
      "metadata": {
        "collapsed": false
      },
      "outputs": [],
      "source": [
        "print(df_data.columns)\n\ndf_data['DHID'] = df_data['DHID'].astype('category')\n# make an int based drillhole identifier\ncode, dh_id = pd.factorize(df_data['DHID'])\ndf_data['DH'] = code\ndf_data = df_data.reset_index().set_index(['DH', 'interval_from', 'interval_to'])\n\nobj_mc_2d: MassComposition = MassComposition(df_data,\n                                             name='Drill program',\n                                             mass_units='kg')\n# obj_mc_2d._data.assign(hole_id=dh_id)\nprint(obj_mc_2d)\nprint(obj_mc_2d.aggregate())\nprint(obj_mc_2d.aggregate('DHID'))"
      ]
    },
    {
      "cell_type": "markdown",
      "metadata": {},
      "source": [
        "View some plots\n\nFirst confirm the parallel plot still works\n\n"
      ]
    },
    {
      "cell_type": "code",
      "execution_count": null,
      "metadata": {
        "collapsed": false
      },
      "outputs": [],
      "source": [
        "# TODO: work on the display order\n# TODO - fails for DH (integer)\n\n# fig: Figure = obj_mc_2d.plot_parallel(color='Fe')\n# fig.show()\n\n# now plot using the xarray data - take advantage of the multi-dim nature of the package\n\nobj_mc_2d.data['Fe'].plot()\nplt.show()"
      ]
    }
  ],
  "metadata": {
    "kernelspec": {
      "display_name": "Python 3",
      "language": "python",
      "name": "python3"
    },
    "language_info": {
      "codemirror_mode": {
        "name": "ipython",
        "version": 3
      },
      "file_extension": ".py",
      "mimetype": "text/x-python",
      "name": "python",
      "nbconvert_exporter": "python",
      "pygments_lexer": "ipython3",
      "version": "3.10.12"
    }
  },
  "nbformat": 4,
  "nbformat_minor": 0
}