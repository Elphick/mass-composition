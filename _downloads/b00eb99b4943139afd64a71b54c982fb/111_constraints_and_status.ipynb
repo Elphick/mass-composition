{
  "cells": [
    {
      "cell_type": "code",
      "execution_count": null,
      "metadata": {
        "collapsed": false
      },
      "outputs": [],
      "source": [
        "%matplotlib inline"
      ]
    },
    {
      "cell_type": "markdown",
      "metadata": {},
      "source": [
        "\n# Constraints and Status\n\nThis example demonstrates how constraints relate to the status property.\n\nIt is common for there to exists upper bounds for some analytes, driven by the mineralogical composition.\nFor example a sample that is expected to be Hematite (Fe2O3) will have a maximum Fe composition of 69.97%.\nSetting constraints on the MassComposition object provides assurance that all records in the dataset are within\nthe specified bounds.\n\nCases where data is Out of Range (OOR) of the prescribed constraints will result in logged warnings.\nWhere possible, visualisations will also highlight a status that is not OK (OOR).\n"
      ]
    },
    {
      "cell_type": "code",
      "execution_count": null,
      "metadata": {
        "collapsed": false
      },
      "outputs": [],
      "source": [
        "import logging\n\nimport pandas as pd\nfrom matplotlib import pyplot as plt\n\nfrom elphick.mass_composition import MassComposition\nfrom elphick.mass_composition.flowsheet import Flowsheet\nfrom elphick.mass_composition.datasets.sample_data import sample_data\n\nlogging.basicConfig(level=logging.INFO,\n                    format='%(asctime)s %(levelname)s %(module)s: %(message)s',\n                    datefmt='%Y-%m-%dT%H:%M:%S%z')\n\n# sphinx_gallery_thumbnail_number = -1"
      ]
    },
    {
      "cell_type": "markdown",
      "metadata": {},
      "source": [
        "## Create a MassComposition object\n\nWe get some demo data in the form of a pandas DataFrame\n\n"
      ]
    },
    {
      "cell_type": "code",
      "execution_count": null,
      "metadata": {
        "collapsed": false
      },
      "outputs": [],
      "source": [
        "df_data: pd.DataFrame = sample_data()\ndf_data"
      ]
    },
    {
      "cell_type": "markdown",
      "metadata": {},
      "source": [
        "Construct a MassComposition object\n\n"
      ]
    },
    {
      "cell_type": "code",
      "execution_count": null,
      "metadata": {
        "collapsed": false
      },
      "outputs": [],
      "source": [
        "obj_mc: MassComposition = MassComposition(df_data)"
      ]
    },
    {
      "cell_type": "markdown",
      "metadata": {},
      "source": [
        "Inspect the default constraints and the status\n\n"
      ]
    },
    {
      "cell_type": "code",
      "execution_count": null,
      "metadata": {
        "collapsed": false
      },
      "outputs": [],
      "source": [
        "obj_mc.constraints"
      ]
    },
    {
      "cell_type": "code",
      "execution_count": null,
      "metadata": {
        "collapsed": false
      },
      "outputs": [],
      "source": [
        "print(obj_mc.status)"
      ]
    },
    {
      "cell_type": "markdown",
      "metadata": {},
      "source": [
        "The status is ok since the data is all in range, so there are no OOR records.\n\n"
      ]
    },
    {
      "cell_type": "markdown",
      "metadata": {},
      "source": [
        "## Modify the constraints to demonstrate OOR data\n\nThe Fe upper constraint will be set low enough to demonstrate the OOR case.\n\n"
      ]
    },
    {
      "cell_type": "code",
      "execution_count": null,
      "metadata": {
        "collapsed": false
      },
      "outputs": [],
      "source": [
        "obj_mc_oor: MassComposition = MassComposition(df_data, constraints={'Fe': [0.0, 60.0]})\nprint(obj_mc_oor.status)"
      ]
    },
    {
      "cell_type": "markdown",
      "metadata": {},
      "source": [
        "We can view the failing records\n\n"
      ]
    },
    {
      "cell_type": "code",
      "execution_count": null,
      "metadata": {
        "collapsed": false
      },
      "outputs": [],
      "source": [
        "obj_mc_oor.status.oor"
      ]
    },
    {
      "cell_type": "markdown",
      "metadata": {},
      "source": [
        "## OOR data within a network\n\nWhen an object exists in a network with a failing status (with OOR data) it will be coloured red.\n\nWe will first construct a simple network and plot it, the network is balanced (across nodes)\n\n"
      ]
    },
    {
      "cell_type": "code",
      "execution_count": null,
      "metadata": {
        "collapsed": false
      },
      "outputs": [],
      "source": [
        "obj_mc_feed: MassComposition = MassComposition(df_data, name='feed', constraints={'Fe': [0.0, 69.97]})\nobj_mc_1, obj_mc_2 = obj_mc_feed.split(0.4, name_1='stream_1', name_2='stream_2')\nfs: Flowsheet = Flowsheet().from_streams([obj_mc_feed, obj_mc_1, obj_mc_2])\nfs.plot()\nplt.show()\nprint(fs.balanced)"
      ]
    },
    {
      "cell_type": "markdown",
      "metadata": {},
      "source": [
        "Now we will modify the grades of a single stream so that they are OOR.\nNote that this will also create a node imbalance that is highlighted red.\n\n"
      ]
    },
    {
      "cell_type": "code",
      "execution_count": null,
      "metadata": {
        "collapsed": false
      },
      "outputs": [],
      "source": [
        "obj_mc_2.update_data(obj_mc_2.data['Fe'] + 10.0)\nobj_mc_2.data.to_dataframe()"
      ]
    },
    {
      "cell_type": "code",
      "execution_count": null,
      "metadata": {
        "collapsed": false
      },
      "outputs": [],
      "source": [
        "fs.plot()\nplt.show()\nprint(fs.balanced)"
      ]
    },
    {
      "cell_type": "markdown",
      "metadata": {},
      "source": [
        "Display the offending edge records\n\n"
      ]
    },
    {
      "cell_type": "code",
      "execution_count": null,
      "metadata": {
        "collapsed": false
      },
      "outputs": [],
      "source": [
        "print(fs.get_edge_by_name('stream_2').status.failing_components)\nfs.get_edge_by_name('stream_2').status.oor"
      ]
    },
    {
      "cell_type": "markdown",
      "metadata": {},
      "source": [
        "The red edge is caused by the Fe of 71.0 on stream_2 exceeding 69.97.\n\nThe red node is caused by the mass not balancing across that node - we would expect the imbalance to be in Fe.\n\n"
      ]
    },
    {
      "cell_type": "code",
      "execution_count": null,
      "metadata": {
        "collapsed": false
      },
      "outputs": [],
      "source": [
        "fs.graph.nodes[1]['mc'].node_balance()"
      ]
    },
    {
      "cell_type": "markdown",
      "metadata": {},
      "source": [
        "We have confirmed the imbalance is in Fe by inspecting the balance across node 1.\n\n"
      ]
    },
    {
      "cell_type": "markdown",
      "metadata": {},
      "source": [
        "The interactive network plot applies equivalent formatting.\n\n"
      ]
    },
    {
      "cell_type": "code",
      "execution_count": null,
      "metadata": {
        "collapsed": false
      },
      "outputs": [],
      "source": [
        "fig = fs.plot_network()\nfig"
      ]
    }
  ],
  "metadata": {
    "kernelspec": {
      "display_name": "Python 3",
      "language": "python",
      "name": "python3"
    },
    "language_info": {
      "codemirror_mode": {
        "name": "ipython",
        "version": 3
      },
      "file_extension": ".py",
      "mimetype": "text/x-python",
      "name": "python",
      "nbconvert_exporter": "python",
      "pygments_lexer": "ipython3",
      "version": "3.10.12"
    }
  },
  "nbformat": 4,
  "nbformat_minor": 0
}