{
  "cells": [
    {
      "cell_type": "code",
      "execution_count": null,
      "metadata": {
        "collapsed": false
      },
      "outputs": [],
      "source": [
        "%matplotlib inline"
      ]
    },
    {
      "cell_type": "markdown",
      "metadata": {},
      "source": [
        "\n# Interval Data - Advanced\n\nIntervals are encountered in Metallurgy, aka fractions,\ne.g. size fractions.  In that case the typical nomenclature is size_retained, size passing, since the data\noriginates from a sieve stack.\n\nThis example walks through unifying the intervals across samples to be represented in the same network.\nConsider the case where the feed, oversize and undersize from a screening operation are sampled and sieved.\nIt is likely that the undersize size distribution will be generated with fewer sieves in the sieve stack.\nIf this data is not unified (made consistent) the network cannot be constructed - by unifying it we can\nconstruct a network and check the magnitude of any imbalance.\n"
      ]
    },
    {
      "cell_type": "code",
      "execution_count": null,
      "metadata": {
        "collapsed": false
      },
      "outputs": [],
      "source": [
        "import logging\nfrom functools import partial\nfrom pathlib import Path\n\nimport pandas as pd\nimport plotly\n\nfrom elphick.mass_composition import MassComposition\nfrom elphick.mass_composition.datasets.sample_data import size_by_assay\nfrom elphick.mass_composition.flowsheet import Flowsheet\nfrom elphick.mass_composition.utils.partition import napier_munn"
      ]
    },
    {
      "cell_type": "code",
      "execution_count": null,
      "metadata": {
        "collapsed": false
      },
      "outputs": [],
      "source": [
        "logging.basicConfig(level=logging.INFO,\n                    format='%(asctime)s %(levelname)s %(module)s - %(funcName)s: %(message)s',\n                    datefmt='%Y-%m-%dT%H:%M:%S%z')"
      ]
    },
    {
      "cell_type": "markdown",
      "metadata": {},
      "source": [
        "## Create some data\n\nWe get some demo sizing data, split it with a partition, and manually drop sieves for the undersize stream.\n\n"
      ]
    },
    {
      "cell_type": "code",
      "execution_count": null,
      "metadata": {
        "collapsed": false
      },
      "outputs": [],
      "source": [
        "# We create this object as 1D based on the pandas index.\n\ndf_data: pd.DataFrame = size_by_assay()\nmc_feed: MassComposition = MassComposition(df_data, name='FEED')\nmc_feed.data.to_dataframe()"
      ]
    },
    {
      "cell_type": "markdown",
      "metadata": {},
      "source": [
        "We partially initialise a partition function, and split the feed stream accordingly.\n\n"
      ]
    },
    {
      "cell_type": "code",
      "execution_count": null,
      "metadata": {
        "collapsed": false
      },
      "outputs": [],
      "source": [
        "partition = partial(napier_munn, d50=0.150, ep=0.05, dim='size')\nmc_oversize, mc_undersize = mc_feed.split_by_partition(partition_definition=partition, name_1='OS', name_2='US')"
      ]
    },
    {
      "cell_type": "markdown",
      "metadata": {},
      "source": [
        "Drop the two size fractions from mc_fine that have near zero mass.\n\nThis simulates a common situation where fines samples will likely have fewer fractions reported in the results.\n\n"
      ]
    },
    {
      "cell_type": "code",
      "execution_count": null,
      "metadata": {
        "collapsed": false
      },
      "outputs": [],
      "source": [
        "df_fine: pd.DataFrame = mc_undersize.data.to_dataframe()\ndf_fine = df_fine.loc[df_fine.index.left < 0.5, :]\n\nmc_undersize.set_data(df_fine)\nmc_undersize.data.to_dataframe()"
      ]
    },
    {
      "cell_type": "markdown",
      "metadata": {},
      "source": [
        "Notice that the top two fractions are now missing.\n\n"
      ]
    },
    {
      "cell_type": "markdown",
      "metadata": {},
      "source": [
        "## Unifying Indexes\n\nIf the dataset contains a single IntervalIndex called 'size' missing coarse size fractions will be added\nautomatically.\n\nThat said, the remaining sizes must be consistent.  Alignment of sizes across streams/mc objects is coming soon.\n\n"
      ]
    },
    {
      "cell_type": "code",
      "execution_count": null,
      "metadata": {
        "collapsed": false
      },
      "outputs": [],
      "source": [
        "fs: Flowsheet = Flowsheet().from_streams([mc_feed, mc_oversize, mc_undersize])\nfig = fs.table_plot()\nfig"
      ]
    },
    {
      "cell_type": "markdown",
      "metadata": {},
      "source": [
        "## Troubleshooting the imbalance\n\nSo we now have our network, but it does not balance.  Perhaps the fractions we removed to generate our test data\ncontained enough mass to breach our balance threshold?  Let's dig deeper with our balance plot.\n\n"
      ]
    },
    {
      "cell_type": "code",
      "execution_count": null,
      "metadata": {
        "collapsed": false
      },
      "outputs": [],
      "source": [
        "fig = fs.plot_balance(color='size')\n# noinspection PyTypeChecker\nplotly.io.show(fig)  # this call to show will set the thumbnail for the gallery"
      ]
    },
    {
      "cell_type": "markdown",
      "metadata": {},
      "source": [
        "What is the balance threshold set at?\n\n"
      ]
    },
    {
      "cell_type": "code",
      "execution_count": null,
      "metadata": {
        "collapsed": false
      },
      "outputs": [],
      "source": [
        "print('Node error tolerance:', fs.graph.nodes[1]['mc']._tolerance)"
      ]
    },
    {
      "cell_type": "markdown",
      "metadata": {},
      "source": [
        "That plot does not reveal the problem, so we'll resort to another report.\n\n"
      ]
    },
    {
      "cell_type": "code",
      "execution_count": null,
      "metadata": {
        "collapsed": false
      },
      "outputs": [],
      "source": [
        "fs.graph.nodes[1]['mc']._balance_errors"
      ]
    },
    {
      "cell_type": "markdown",
      "metadata": {},
      "source": [
        "Let's change the node error tolerance.\n\n"
      ]
    },
    {
      "cell_type": "code",
      "execution_count": null,
      "metadata": {
        "collapsed": false
      },
      "outputs": [],
      "source": [
        "fs.graph.nodes[1]['mc']._tolerance = 0.001\nfig = fs.table_plot()\nfig"
      ]
    },
    {
      "cell_type": "markdown",
      "metadata": {},
      "source": [
        ".. admonition:: TODO\n\n   Create a single imbalance report across the entire network.\n\n"
      ]
    }
  ],
  "metadata": {
    "kernelspec": {
      "display_name": "Python 3",
      "language": "python",
      "name": "python3"
    },
    "language_info": {
      "codemirror_mode": {
        "name": "ipython",
        "version": 3
      },
      "file_extension": ".py",
      "mimetype": "text/x-python",
      "name": "python",
      "nbconvert_exporter": "python",
      "pygments_lexer": "ipython3",
      "version": "3.10.12"
    }
  },
  "nbformat": 4,
  "nbformat_minor": 0
}