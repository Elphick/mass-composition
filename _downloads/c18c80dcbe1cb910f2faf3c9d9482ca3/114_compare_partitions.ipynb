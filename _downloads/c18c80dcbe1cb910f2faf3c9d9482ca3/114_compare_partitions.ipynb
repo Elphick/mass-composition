{
  "cells": [
    {
      "cell_type": "code",
      "execution_count": null,
      "metadata": {
        "collapsed": false
      },
      "outputs": [],
      "source": [
        "%matplotlib inline"
      ]
    },
    {
      "cell_type": "markdown",
      "metadata": {},
      "source": [
        "\n# Compare Partition Separations\n\nDemonstrate splitting a single sample and applying two different partition models along a dimension.\n\nWe will compare an ideal (perfect) partition with that with the partition model of Napier-Munn (1998)\n\nThis demonstrates why using only ore characterisation data to infer plant performance is dangerous.\nThe robust method uses ore characterisation and process characterisation (partition) data\n\nThe two cases tested are:\n\n* IDEAL - Perfect partition, represents using ore characterisation data only\n* SIM - Simulated reality with Napier-Munn partition, represents using ore characterisation and\n  process characterisation data.\n\n..  note::\n    The Ep parameter injected to the Napier-Munn partition is speculative - for illustrative purposes only.\n"
      ]
    },
    {
      "cell_type": "code",
      "execution_count": null,
      "metadata": {
        "collapsed": false
      },
      "outputs": [],
      "source": [
        "import plotly\nimport pandas as pd\nfrom functools import partial\n\nfrom elphick.mass_composition.flowsheet import Flowsheet\nfrom elphick.mass_composition.utils.partition import perfect, napier_munn\nfrom elphick.mass_composition.datasets.sample_data import size_by_assay\nfrom elphick.mass_composition import MassComposition\n\n# sphinx_gallery_thumbnail_number = -1"
      ]
    },
    {
      "cell_type": "markdown",
      "metadata": {},
      "source": [
        "## Create a mass-composition object\n\nWe get some demo data in the form of a pandas DataFrame\n\n"
      ]
    },
    {
      "cell_type": "code",
      "execution_count": null,
      "metadata": {
        "collapsed": false
      },
      "outputs": [],
      "source": [
        "df_data: pd.DataFrame = size_by_assay()\ndf_data\n\n# # since we intend to split the sample in half, we'll re-base the original mass to 200,\n# for easier interpretation later.\n\ndf_data['mass_dry'] = df_data['mass_dry'] * 2"
      ]
    },
    {
      "cell_type": "markdown",
      "metadata": {},
      "source": [
        "Create the object\n\n"
      ]
    },
    {
      "cell_type": "code",
      "execution_count": null,
      "metadata": {
        "collapsed": false
      },
      "outputs": [],
      "source": [
        "mc_size: MassComposition = MassComposition(df_data, name='size sample')\nprint(mc_size)\nmc_size.aggregate()"
      ]
    },
    {
      "cell_type": "markdown",
      "metadata": {},
      "source": [
        "Visualise the data\n\n"
      ]
    },
    {
      "cell_type": "code",
      "execution_count": null,
      "metadata": {
        "collapsed": false
      },
      "outputs": [],
      "source": [
        "fig = mc_size.plot_parallel(color='Fe')\nfig"
      ]
    },
    {
      "cell_type": "markdown",
      "metadata": {},
      "source": [
        "## Split the Sample\n\n"
      ]
    },
    {
      "cell_type": "code",
      "execution_count": null,
      "metadata": {
        "collapsed": false
      },
      "outputs": [],
      "source": [
        "mc_ideal_feed, mc_sim_feed = mc_size.split(0.5, 'ideal feed', 'sim feed')"
      ]
    },
    {
      "cell_type": "markdown",
      "metadata": {},
      "source": [
        "## Apply the Partitions\n\nWe partially initialise the two partitions\nThe dim argument is added to inform the split method which dimension to apply the function/split to\n\n"
      ]
    },
    {
      "cell_type": "code",
      "execution_count": null,
      "metadata": {
        "collapsed": false
      },
      "outputs": [],
      "source": [
        "part_ideal = partial(perfect, d50=0.150, dim='size')\npart_sim = partial(napier_munn, d50=0.150, ep=0.1, dim='size')"
      ]
    },
    {
      "cell_type": "markdown",
      "metadata": {},
      "source": [
        "Separate the object using the defined partitions\n\n"
      ]
    },
    {
      "cell_type": "code",
      "execution_count": null,
      "metadata": {
        "collapsed": false
      },
      "outputs": [],
      "source": [
        "mc_ideal_coarse, mc_ideal_fine = mc_ideal_feed.split_by_partition(partition_definition=part_ideal,\n                                                                  name_1='ideal_coarse', name_2='ideal_fine')\nmc_sim_coarse, mc_sim_fine = mc_sim_feed.split_by_partition(partition_definition=part_sim, name_1='sim_coarse', name_2='sim_fine')\n\n\nfs: Flowsheet = Flowsheet().from_streams([mc_size, mc_ideal_feed, mc_sim_feed,\n                                           mc_ideal_coarse, mc_ideal_fine,\n                                           mc_sim_coarse, mc_sim_fine])\n\nfig = fs.table_plot(table_pos='left',\n                     sankey_color_var='Fe', sankey_edge_colormap='copper_r', sankey_vmin=50, sankey_vmax=70)\n# noinspection PyTypeChecker\nplotly.io.show(fig)  # this call to show will set the thumbnail for use in the gallery"
      ]
    },
    {
      "cell_type": "markdown",
      "metadata": {},
      "source": [
        "..  note::\n    The mass split and grades are different as shown in the table above.\n    The difference in coarse yield (mass recovery) of the two cases is 7.4%.\n    More work reviewing recovery of components in both cases would be prudent.\n    This is illustrative only but demonstrates why using ore characterisation and ignoring\n    process characterisation to capture the real world process inefficiencies is dangerous.\n\n"
      ]
    }
  ],
  "metadata": {
    "kernelspec": {
      "display_name": "Python 3",
      "language": "python",
      "name": "python3"
    },
    "language_info": {
      "codemirror_mode": {
        "name": "ipython",
        "version": 3
      },
      "file_extension": ".py",
      "mimetype": "text/x-python",
      "name": "python",
      "nbconvert_exporter": "python",
      "pygments_lexer": "ipython3",
      "version": "3.10.12"
    }
  },
  "nbformat": 4,
  "nbformat_minor": 0
}