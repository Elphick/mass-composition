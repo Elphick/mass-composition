{
  "cells": [
    {
      "cell_type": "code",
      "execution_count": null,
      "metadata": {
        "collapsed": false
      },
      "outputs": [],
      "source": [
        "%matplotlib inline"
      ]
    },
    {
      "cell_type": "markdown",
      "metadata": {},
      "source": [
        "\n# Network Simulation Tools\n\nThis is not a runnable example, but are the functions and classes used in the simulating_networks.py example.\n\nIncluding the my_simulator function in the main script can cause parallel processing issues (at least when\ntrying to run both as a script and an ipython/Sphinx example).\n"
      ]
    },
    {
      "cell_type": "code",
      "execution_count": null,
      "metadata": {
        "collapsed": false
      },
      "outputs": [],
      "source": [
        "import time\nfrom random import random\n\nfrom elphick.mass_composition import MassComposition\nfrom elphick.mass_composition.flowsheet import Flowsheet\n\n\ndef my_simulator(args) -> tuple[int, Flowsheet]:\n    mc: MassComposition\n    sid, mc = args\n    mc.name = 'feed'\n    fraction = random()\n    time.sleep(fraction * 10)\n    lump, fines = mc.split(fraction, name_1='lump', name_2='fines')\n    fs: Flowsheet = Flowsheet.from_streams(streams=[mc, lump, fines], name=f'Sample {sid}')\n    return sid, fs"
      ]
    }
  ],
  "metadata": {
    "kernelspec": {
      "display_name": "Python 3",
      "language": "python",
      "name": "python3"
    },
    "language_info": {
      "codemirror_mode": {
        "name": "ipython",
        "version": 3
      },
      "file_extension": ".py",
      "mimetype": "text/x-python",
      "name": "python",
      "nbconvert_exporter": "python",
      "pygments_lexer": "ipython3",
      "version": "3.10.12"
    }
  },
  "nbformat": 4,
  "nbformat_minor": 0
}