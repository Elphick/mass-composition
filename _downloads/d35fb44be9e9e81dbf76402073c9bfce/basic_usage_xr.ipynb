{
  "cells": [
    {
      "cell_type": "code",
      "execution_count": null,
      "metadata": {
        "collapsed": false
      },
      "outputs": [],
      "source": [
        "%matplotlib inline"
      ]
    },
    {
      "cell_type": "markdown",
      "metadata": {},
      "source": [
        "\n# Basic usage XR\n\nA simple example demonstrating how to use mass-composition.\n"
      ]
    },
    {
      "cell_type": "code",
      "execution_count": null,
      "metadata": {
        "collapsed": false
      },
      "outputs": [],
      "source": [
        "import xarray as xr\nimport pandas as pd\n\nfrom elphick.mass_composition import MassComposition\nfrom elphick.mass_composition.datasets.sample_data import sample_data\n# noinspection PyUnresolvedReferences\nimport elphick.mass_composition.mc_xarray  # keep this \"unused\" import - it helps"
      ]
    },
    {
      "cell_type": "markdown",
      "metadata": {},
      "source": [
        "## Create a mass-composition (mc) enabled Xarray Dataset\n\nWe get some demo data in the form of a pandas DataFrame\n\n"
      ]
    },
    {
      "cell_type": "code",
      "execution_count": null,
      "metadata": {
        "collapsed": false
      },
      "outputs": [],
      "source": [
        "df_data: pd.DataFrame = sample_data()\nprint(df_data.head())"
      ]
    },
    {
      "cell_type": "markdown",
      "metadata": {},
      "source": [
        "Construct a MassComposition object first to create a compliant xarray object with the concrete property\n\n"
      ]
    },
    {
      "cell_type": "code",
      "execution_count": null,
      "metadata": {
        "collapsed": false
      },
      "outputs": [],
      "source": [
        "xr_ds: xr.Dataset = MassComposition(data=df_data, name='test').to_xarray()\nprint(xr_ds.mc.data())"
      ]
    },
    {
      "cell_type": "markdown",
      "metadata": {},
      "source": [
        "Validate the round trip by converting composition to mass and back to composition\n\n"
      ]
    },
    {
      "cell_type": "code",
      "execution_count": null,
      "metadata": {
        "collapsed": false
      },
      "outputs": [],
      "source": [
        "xr_ds_mass = xr_ds.mc.composition_to_mass()\nprint(xr_ds_mass.mc.data())\nxr_ds_chem = xr_ds_mass.mc.mass_to_composition()\nprint(xr_ds_chem.mc.data())\n\npd.testing.assert_frame_equal(xr_ds.to_dataframe(), xr_ds_chem.to_dataframe())"
      ]
    },
    {
      "cell_type": "markdown",
      "metadata": {},
      "source": [
        "Demonstrate splitting an object\n\n"
      ]
    },
    {
      "cell_type": "code",
      "execution_count": null,
      "metadata": {
        "collapsed": false
      },
      "outputs": [],
      "source": [
        "xr_1, xr_2 = xr_ds.mc.split(fraction=0.25)\nprint(xr_1.mc.data())\nprint(xr_2.mc.data())"
      ]
    },
    {
      "cell_type": "markdown",
      "metadata": {},
      "source": [
        "## Demonstrate the mc aggregate function\n\ni.e. weight average of the dataset, a.k.a. head grade\n\n"
      ]
    },
    {
      "cell_type": "code",
      "execution_count": null,
      "metadata": {
        "collapsed": false
      },
      "outputs": [],
      "source": [
        "xr_ds_wtd: xr.Dataset = xr_ds.mc.aggregate()\nprint(xr_ds_wtd.mc.data())\n\n# xr_ds_wtd.mc.to_dataframe(original_column_names=True)"
      ]
    },
    {
      "cell_type": "markdown",
      "metadata": {},
      "source": [
        "Convert to a pandas DataFrame\n\n"
      ]
    },
    {
      "cell_type": "code",
      "execution_count": null,
      "metadata": {
        "collapsed": false
      },
      "outputs": [],
      "source": [
        "print(xr_ds.mc.aggregate(as_dataframe=True, original_column_names=False))\nprint(xr_ds.mc.aggregate(as_dataframe=True, original_column_names=True))"
      ]
    },
    {
      "cell_type": "markdown",
      "metadata": {},
      "source": [
        "Aggregate by a group variable\n\n"
      ]
    },
    {
      "cell_type": "code",
      "execution_count": null,
      "metadata": {
        "collapsed": false
      },
      "outputs": [],
      "source": [
        "print(xr_ds.mc.aggregate(group_var='group', as_dataframe=True))"
      ]
    },
    {
      "cell_type": "markdown",
      "metadata": {},
      "source": [
        "Math operations - we'll go full circle again, so we can check.\n\n"
      ]
    },
    {
      "cell_type": "code",
      "execution_count": null,
      "metadata": {
        "collapsed": false
      },
      "outputs": [],
      "source": [
        "xr_ds_added: xr.Dataset = xr_1.mc.add(xr_2)\nprint(xr_ds_added.mc.data())\n\npd.testing.assert_frame_equal(xr_ds.to_dataframe(), xr_ds_added.to_dataframe())\n\nxr_ds_add_sub: xr.Dataset = xr_ds.mc.add(xr_1).mc.sub(xr_1)\nprint(xr_ds_added.mc.data())\n\npd.testing.assert_frame_equal(xr_ds.to_dataframe(), xr_ds_add_sub.to_dataframe())\n\n\nprint('done')"
      ]
    }
  ],
  "metadata": {
    "kernelspec": {
      "display_name": "Python 3",
      "language": "python",
      "name": "python3"
    },
    "language_info": {
      "codemirror_mode": {
        "name": "ipython",
        "version": 3
      },
      "file_extension": ".py",
      "mimetype": "text/x-python",
      "name": "python",
      "nbconvert_exporter": "python",
      "pygments_lexer": "ipython3",
      "version": "3.10.12"
    }
  },
  "nbformat": 4,
  "nbformat_minor": 0
}