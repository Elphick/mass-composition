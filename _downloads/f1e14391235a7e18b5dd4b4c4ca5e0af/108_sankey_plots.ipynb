{
  "cells": [
    {
      "cell_type": "code",
      "execution_count": null,
      "metadata": {
        "collapsed": false
      },
      "outputs": [],
      "source": [
        "%matplotlib inline"
      ]
    },
    {
      "cell_type": "markdown",
      "metadata": {},
      "source": [
        "\n# Sankey Plots\n\nRelated MassComposition objects are managed as a network.\n"
      ]
    },
    {
      "cell_type": "code",
      "execution_count": null,
      "metadata": {
        "collapsed": false
      },
      "outputs": [],
      "source": [
        "import pandas as pd\nimport matplotlib.pyplot as plt\nimport plotly\nfrom matplotlib import pyplot as plt\nfrom plotly.graph_objs import Figure\n\nfrom elphick.mass_composition import MassComposition\nfrom elphick.mass_composition.flowsheet import Flowsheet\nfrom elphick.mass_composition.datasets.sample_data import sample_data\n\n# sphinx_gallery_thumbnail_number = -1"
      ]
    },
    {
      "cell_type": "markdown",
      "metadata": {},
      "source": [
        "## Create some MassComposition objects\n\nCreate an object, and split it to create two more objects.\n\n"
      ]
    },
    {
      "cell_type": "code",
      "execution_count": null,
      "metadata": {
        "collapsed": false
      },
      "outputs": [],
      "source": [
        "df_data: pd.DataFrame = sample_data()\nobj_mc: MassComposition = MassComposition(df_data, name='Feed')\nobj_mc_1, obj_mc_2 = obj_mc.split(0.4)"
      ]
    },
    {
      "cell_type": "markdown",
      "metadata": {},
      "source": [
        "## Create a Flowsheet object\n\nThis requires passing an Iterable of MassComposition objects\n\n"
      ]
    },
    {
      "cell_type": "code",
      "execution_count": null,
      "metadata": {
        "collapsed": false
      },
      "outputs": [],
      "source": [
        "fs: Flowsheet = Flowsheet().from_streams([obj_mc, obj_mc_1, obj_mc_2])\n\nhf = fs.plot_network()\nplt.show()"
      ]
    },
    {
      "cell_type": "markdown",
      "metadata": {},
      "source": [
        "## Sankey Plot\n\nA sankey represents the network with the width of each edge representing its mass.\nThe optional color of the edge represents the value of the selected composition analyte.\nIn this example, grades are the same, so will not add any value.\n\n"
      ]
    },
    {
      "cell_type": "code",
      "execution_count": null,
      "metadata": {
        "collapsed": false
      },
      "outputs": [],
      "source": [
        "fig: Figure = fs.plot_sankey()\n# noinspection PyTypeChecker\nplotly.io.show(fig)  # this call to show will set the thumbnail for use in the gallery"
      ]
    },
    {
      "cell_type": "markdown",
      "metadata": {},
      "source": [
        "## Filtered Data\n\nIt is convenient to filter the underlying data before plotting.\n\nTo verify the filtering, we'll plot the sankey as part of the table_plot, which will tabulate the\naggregated mass-composition for each edge/stream in the network.\n\n"
      ]
    },
    {
      "cell_type": "code",
      "execution_count": null,
      "metadata": {
        "collapsed": false
      },
      "outputs": [],
      "source": [
        "fig: Figure = fs.table_plot(plot_type='sankey', table_pos='left')\nfig"
      ]
    },
    {
      "cell_type": "markdown",
      "metadata": {},
      "source": [
        "Now filter and plot again\n\n"
      ]
    },
    {
      "cell_type": "code",
      "execution_count": null,
      "metadata": {
        "collapsed": false
      },
      "outputs": [],
      "source": [
        "fig: Figure = fs.query(mc_name='Feed', queries={'index': 'Fe>58'}).table_plot(plot_type='sankey', table_pos='left')\nfig"
      ]
    }
  ],
  "metadata": {
    "kernelspec": {
      "display_name": "Python 3",
      "language": "python",
      "name": "python3"
    },
    "language_info": {
      "codemirror_mode": {
        "name": "ipython",
        "version": 3
      },
      "file_extension": ".py",
      "mimetype": "text/x-python",
      "name": "python",
      "nbconvert_exporter": "python",
      "pygments_lexer": "ipython3",
      "version": "3.10.12"
    }
  },
  "nbformat": 4,
  "nbformat_minor": 0
}